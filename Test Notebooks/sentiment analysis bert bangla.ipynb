{
 "cells": [
  {
   "cell_type": "code",
   "execution_count": 1,
   "id": "potential-still",
   "metadata": {},
   "outputs": [
    {
     "data": {
      "text/plain": [
       "[{'label': 'LABEL_1', 'score': 0.6028088331222534}]"
      ]
     },
     "execution_count": 1,
     "metadata": {},
     "output_type": "execute_result"
    }
   ],
   "source": [
    "from transformers import AutoTokenizer, AutoModelForSequenceClassification, pipeline\n",
    "\n",
    "tokenizer = AutoTokenizer.from_pretrained(\"sagorsarker/bangla-bert-sentiment\")\n",
    "\n",
    "model = AutoModelForSequenceClassification.from_pretrained(\"sagorsarker/bangla-bert-sentiment\")\n",
    "\n",
    "nlp = pipeline('sentiment-analysis', model=model, tokenizer=tokenizer)\n",
    "sentence = \"বাংলার ঘরে ঘরে আজ নবান্নের উৎসব\"\n",
    "nlp(sentence)"
   ]
  },
  {
   "cell_type": "code",
   "execution_count": 4,
   "id": "western-consent",
   "metadata": {},
   "outputs": [],
   "source": [
    "sentence = '''কুয়েট বাংলাদেশের সবচেয়ে অগ্রণী বিশ্ববিদ্যালয়গুলোর মধ্যে অন্যতম একটি হিসেবে মর্যাদা লাভ করায় এর উপাচার্য হিসেবে আমি সম্মানিত এবং দ্রুত সময়ের মধ্যে ক্যাম্পাসের মানসম্মত শিক্ষা, গবেষণা এবং সামগ্রিক উন্নয়ন এবং জ্ঞানার্জনের পরিবেশের অগ্রগতি ও প্রবৃদ্ধিকে এগিয়ে নিতে আশাবাদী। '''"
   ]
  },
  {
   "cell_type": "code",
   "execution_count": 5,
   "id": "diagnostic-constitution",
   "metadata": {},
   "outputs": [
    {
     "data": {
      "text/plain": [
       "[{'label': 'LABEL_1', 'score': 0.973778247833252}]"
      ]
     },
     "execution_count": 5,
     "metadata": {},
     "output_type": "execute_result"
    }
   ],
   "source": [
    "nlp(sentence)"
   ]
  },
  {
   "cell_type": "code",
   "execution_count": 12,
   "id": "comic-luxury",
   "metadata": {},
   "outputs": [],
   "source": [
    "sentence = '''এখানে থাকা আর নিরাপদ মনে হলো না।'''"
   ]
  },
  {
   "cell_type": "code",
   "execution_count": 13,
   "id": "contemporary-nightlife",
   "metadata": {},
   "outputs": [
    {
     "data": {
      "text/plain": [
       "[{'label': 'LABEL_0', 'score': 0.9965322613716125}]"
      ]
     },
     "execution_count": 13,
     "metadata": {},
     "output_type": "execute_result"
    }
   ],
   "source": [
    "nlp(sentence)"
   ]
  },
  {
   "cell_type": "code",
   "execution_count": null,
   "id": "virtual-bachelor",
   "metadata": {},
   "outputs": [],
   "source": []
  }
 ],
 "metadata": {
  "kernelspec": {
   "display_name": "Python (torch)",
   "language": "python",
   "name": "torch"
  },
  "language_info": {
   "codemirror_mode": {
    "name": "ipython",
    "version": 3
   },
   "file_extension": ".py",
   "mimetype": "text/x-python",
   "name": "python",
   "nbconvert_exporter": "python",
   "pygments_lexer": "ipython3",
   "version": "3.8.5"
  }
 },
 "nbformat": 4,
 "nbformat_minor": 5
}
