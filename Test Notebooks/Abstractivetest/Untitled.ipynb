{
 "cells": [
  {
   "cell_type": "code",
   "execution_count": 10,
   "id": "invisible-celebrity",
   "metadata": {},
   "outputs": [],
   "source": [
    "from bnlp import BasicTokenizer\n",
    "from bnlp import NLTKTokenizer\n",
    "from bnlp import SentencepieceTokenizer\n",
    "from bnlp import BengaliWord2Vec\n",
    "from bnlp import POS\n",
    "from bnlp.corpus import stopwords, punctuations, letters, digits\n",
    "from bnlp.corpus import stopwords\n",
    "from bnlp.corpus.util import remove_stopwords\n",
    "from bltk.langtools import UgraStemmer\n"
   ]
  },
  {
   "cell_type": "code",
   "execution_count": 2,
   "id": "going-friendship",
   "metadata": {},
   "outputs": [],
   "source": [
    "text = \"\"\"বাংলাদেশে উচ্চশিক্ষায় নেতৃত্বদানকারী বিশ্ববিদ্যালয়গুলোর মধ্যে অন্যতম এক উচ্চশিক্ষা প্রতিষ্ঠান হিসেবে খুলনা প্রকৌশল ও প্রযুক্তি বিশ্ববিদ্যালয় (কুয়েট) কে পরিচয় করিয়ে দিতে পেরে আমি খুবই আনন্দিত। খুলনা শহরের কেন্দ্রস্থল থেকে প্রায় ১২ কিলোমিটার উত্তরে ১০১ একর জমির উপর এই প্রতিষ্ঠানটি ১৯৬৭ সালে খুলনা ইঞ্জিনিয়ারিং কলেজ হিসেবে প্রতিষ্ঠিত হয়। জাতির জনক বঙ্গবন্ধু শেখ মুজিবুর রহমান-এঁর বিশেষ নির্দেশনায় কার্যকরী উদ্যোগ গ্রহণের মাধ্যমে ১৯৭৪ সালের ৩ জুন তিনটি প্রকৌশল বিভাগ নিয়ে স্নাতক ডিগ্রী কোর্সে ১২০ জন শিক্ষার্থী ভর্তির মাধ্যমে এর সুদীর্ঘ গৌরবময় শিক্ষাকার্যক্রম শুরু হয়।\n",
    "\n",
    "পরবর্তীতে জুলাই ১৯৮৬ সালে শিক্ষা, গবেষণা ও জ্ঞানার্জনে উন্নতি সাধনের লক্ষ্যে কলেজটিকে বাংলাদেশ ইন্সটিটিউট অব টেকনোলোজি (বিআইটি), খুলনা নামে স্বায়ত্বশাসিত উচ্চশিক্ষা প্রতিষ্ঠানে উন্নতীকরণ করা হয়। পরিশেষে, ০১ সেপ্টেম্বর ২০০৩ সালে ইন্সটিটিউটটিকে উন্নীত ও রূপান্তরক্রমে খুলনা প্রকৌশল ও প্রযুক্তি বিশ্ববিদ্যালয় নামে যাত্রা শুরু করে। বর্তমানে এতে প্রকৌশল এবং মৌলিক বিজ্ঞানের মোট ১৮ টি বিভাগে ২০১৬-২০১৭ সেশন থেকে প্রতিবছর স্নাতক পর্যায়ে ১০০৫ জন এবং স্নাতকোত্তর পর্যায়ে প্রায় ২০০ জন শিক্ষার্থী ভর্তি হয়।\n",
    "\n",
    "ইন্সটিটিউট অব ইনফরমেশন এন্ড কমিউনিকেশন টেকনোলোজি (আইআইসিটি) ২০১০ সালে, ইন্সটিটিউট অব ডিজাস্টার ম্যানেজমেন্ট (আইডিএম) ২০১৩ সালে এবং ইন্সটিটিউট অব এনভায়রনমেন্ট এন্ড পাওয়ার টেকনোলজি (আইইপিটি) ২০১৬ সালে প্রতিষ্ঠিত হয় এবং পর্যায়ক্রমে প্রশিক্ষণ, শিক্ষা ও গবেষণা কার্যক্রম শুরু করে। ইতোমধ্যে ২০১৬ সালে ‘ইনোভেশন ও ইনোভেটর সেল (আইআইসি)’ প্রতিষ্ঠিত হয়েছে যা পাবলিক প্রাইভেট পার্টনারশীপের অংশীদারিত্বে উন্নয়ন ও পরিচালনার উদ্যোগ নেয়া হয়েছে। ‘আইটি ইনকিউবেশন ও ট্রেনিং সেন্টার’ নির্মাণ কাজ আগামী জুন ২০১৯ সালে সম্পন্ন হবে। কুয়েটের আয়তন আরও ১৬.৩০ একর বৃদ্ধি, আধুনিক বৈজ্ঞানিক যন্ত্রপাতি ক্রয়, আধুনিক অবকাঠামো তৈরী এবং আরও চারটি নতুন বিভাগ আগামী চার বছরের মধ্যে খোলার পরিকল্পনা নেয়া হয়েছে।\n",
    "প্রকৌশল, বিজ্ঞান ও প্রযুক্তিগত শিক্ষা এবং গবেষণাকে শক্তিশালী করে দেশের প্রযুক্তিগত ও ব্যবস্থাপনা উন্নয়নে নেতৃত্ব গ্রহণে বিশ্ববিদ্যালয়টি অঙ্গীকারবদ্ধ। কয়েক দশক ধরে শিক্ষা, গবেষণা এবং জাতি গঠনে এই দেশের সেরা স্নাতকদের তৈরি করার ক্ষেত্রে কুয়েট অগ্রদূত হয়ে উঠেছে। গবেষণা এবং প্রতিষ্ঠানিক কার্যক্রমকে আর এগিয়ে নিতে এশীয়, ইউরোপীয়, আমেরিকান এবং অস্ট্রেলিয়ার বিভিন্ন উচ্চশিক্ষা এবং গবেষণা প্রতিষ্ঠানের সাথে সংগতিপূর্ণ সহযোগিতার কার্যক্রম সম্প্রসারিত করা হয়েছে। কুয়েট বাংলাদেশের সবচেয়ে অগ্রণী বিশ্ববিদ্যালয়গুলোর মধ্যে অন্যতম একটি হিসেবে মর্যাদা লাভ করায় এর উপাচার্য হিসেবে আমি সম্মানিত এবং দ্রুত সময়ের মধ্যে ক্যাম্পাসের মানসম্মত শিক্ষা, গবেষণা এবং সামগ্রিক উন্নয়ন এবং জ্ঞানার্জনের পরিবেশের অগ্রগতি ও প্রবৃদ্ধিকে এগিয়ে নিতে আশাবাদী।\n",
    "\n",
    "অনন্য এক শিক্ষা, গবেষণা ও আন্তরিক পরিবেশের অভিজ্ঞতা লাভের জন্য আমি সকলকে কুয়েটে স্বাগত জানাই।\"\"\""
   ]
  },
  {
   "cell_type": "markdown",
   "id": "disabled-lecture",
   "metadata": {},
   "source": [
    "### Tokenizing\n"
   ]
  },
  {
   "cell_type": "code",
   "execution_count": 4,
   "id": "canadian-fraction",
   "metadata": {},
   "outputs": [
    {
     "name": "stdout",
     "output_type": "stream",
     "text": [
      "[['বাংলাদেশে', 'উচ্চশিক্ষায়', 'নেতৃত্বদানকারী', 'বিশ্ববিদ্যালয়গুলোর', 'মধ্যে', 'অন্যতম', 'এক', 'উচ্চশিক্ষা', 'প্রতিষ্ঠান', 'হিসেবে', 'খুলনা', 'প্রকৌশল', 'ও', 'প্রযুক্তি', 'বিশ্ববিদ্যালয়', 'কুয়েট', 'কে', 'পরিচয়', 'করিয়ে', 'দিতে', 'পেরে', 'আমি', 'খুবই', 'আনন্দিত'], ['খুলনা', 'শহরের', 'কেন্দ্রস্থল', 'থেকে', 'প্রায়', '১২', 'কিলোমিটার', 'উত্তরে', '১০১', 'একর', 'জমির', 'উপর', 'এই', 'প্রতিষ্ঠানটি', '১৯৬৭', 'সালে', 'খুলনা', 'ইঞ্জিনিয়ারিং', 'কলেজ', 'হিসেবে', 'প্রতিষ্ঠিত', 'হয়'], ['জাতির', 'জনক', 'বঙ্গবন্ধু', 'শেখ', 'মুজিবুর', 'রহমান-এঁর', 'বিশেষ', 'নির্দেশনায়', 'কার্যকরী', 'উদ্যোগ', 'গ্রহণের', 'মাধ্যমে', '১৯৭৪', 'সালের', '৩', 'জুন', 'তিনটি', 'প্রকৌশল', 'বিভাগ', 'নিয়ে', 'স্নাতক', 'ডিগ্রী', 'কোর্সে', '১২০', 'জন', 'শিক্ষার্থী', 'ভর্তির', 'মাধ্যমে', 'এর', 'সুদীর্ঘ', 'গৌরবময়', 'শিক্ষাকার্যক্রম', 'শুরু', 'হয়'], ['পরবর্তীতে', 'জুলাই', '১৯৮৬', 'সালে', 'শিক্ষা', 'গবেষণা', 'ও', 'জ্ঞানার্জনে', 'উন্নতি', 'সাধনের', 'লক্ষ্যে', 'কলেজটিকে', 'বাংলাদেশ', 'ইন্সটিটিউট', 'অব', 'টেকনোলোজি', 'বিআইটি', 'খুলনা', 'নামে', 'স্বায়ত্বশাসিত', 'উচ্চশিক্ষা', 'প্রতিষ্ঠানে', 'উন্নতীকরণ', 'করা', 'হয়'], ['পরিশেষে', '০১', 'সেপ্টেম্বর', '২০০৩', 'সালে', 'ইন্সটিটিউটটিকে', 'উন্নীত', 'ও', 'রূপান্তরক্রমে', 'খুলনা', 'প্রকৌশল', 'ও', 'প্রযুক্তি', 'বিশ্ববিদ্যালয়', 'নামে', 'যাত্রা', 'শুরু', 'করে'], ['বর্তমানে', 'এতে', 'প্রকৌশল', 'এবং', 'মৌলিক', 'বিজ্ঞানের', 'মোট', '১৮', 'টি', 'বিভাগে', '২০১৬-২০১৭', 'সেশন', 'থেকে', 'প্রতিবছর', 'স্নাতক', 'পর্যায়ে', '১০০৫', 'জন', 'এবং', 'স্নাতকোত্তর', 'পর্যায়ে', 'প্রায়', '২০০', 'জন', 'শিক্ষার্থী', 'ভর্তি', 'হয়'], ['ইন্সটিটিউট', 'অব', 'ইনফরমেশন', 'এন্ড', 'কমিউনিকেশন', 'টেকনোলোজি', 'আইআইসিটি', '২০১০', 'সালে', 'ইন্সটিটিউট', 'অব', 'ডিজাস্টার', 'ম্যানেজমেন্ট', 'আইডিএম', '২০১৩', 'সালে', 'এবং', 'ইন্সটিটিউট', 'অব', 'এনভায়রনমেন্ট', 'এন্ড', 'পাওয়ার', 'টেকনোলজি', 'আইইপিটি', '২০১৬', 'সালে', 'প্রতিষ্ঠিত', 'হয়', 'এবং', 'পর্যায়ক্রমে', 'প্রশিক্ষণ', 'শিক্ষা', 'ও', 'গবেষণা', 'কার্যক্রম', 'শুরু', 'করে'], ['ইতোমধ্যে', '২০১৬', 'সালে', '‘', 'ইনোভেশন', 'ও', 'ইনোভেটর', 'সেল', 'আইআইসি', '’', 'প্রতিষ্ঠিত', 'হয়েছে', 'যা', 'পাবলিক', 'প্রাইভেট', 'পার্টনারশীপের', 'অংশীদারিত্বে', 'উন্নয়ন', 'ও', 'পরিচালনার', 'উদ্যোগ', 'নেয়া', 'হয়েছে'], ['‘', 'আইটি', 'ইনকিউবেশন', 'ও', 'ট্রেনিং', 'সেন্টার', '’', 'নির্মাণ', 'কাজ', 'আগামী', 'জুন', '২০১৯', 'সালে', 'সম্পন্ন', 'হবে'], ['কুয়েটের', 'আয়তন', 'আরও', '১৬.৩০', 'একর', 'বৃদ্ধি', 'আধুনিক', 'বৈজ্ঞানিক', 'যন্ত্রপাতি', 'ক্রয়', 'আধুনিক', 'অবকাঠামো', 'তৈরী', 'এবং', 'আরও', 'চারটি', 'নতুন', 'বিভাগ', 'আগামী', 'চার', 'বছরের', 'মধ্যে', 'খোলার', 'পরিকল্পনা', 'নেয়া', 'হয়েছে'], ['প্রকৌশল', 'বিজ্ঞান', 'ও', 'প্রযুক্তিগত', 'শিক্ষা', 'এবং', 'গবেষণাকে', 'শক্তিশালী', 'করে', 'দেশের', 'প্রযুক্তিগত', 'ও', 'ব্যবস্থাপনা', 'উন্নয়নে', 'নেতৃত্ব', 'গ্রহণে', 'বিশ্ববিদ্যালয়টি', 'অঙ্গীকারবদ্ধ'], ['কয়েক', 'দশক', 'ধরে', 'শিক্ষা', 'গবেষণা', 'এবং', 'জাতি', 'গঠনে', 'এই', 'দেশের', 'সেরা', 'স্নাতকদের', 'তৈরি', 'করার', 'ক্ষেত্রে', 'কুয়েট', 'অগ্রদূত', 'হয়ে', 'উঠেছে'], ['গবেষণা', 'এবং', 'প্রতিষ্ঠানিক', 'কার্যক্রমকে', 'আর', 'এগিয়ে', 'নিতে', 'এশীয়', 'ইউরোপীয়', 'আমেরিকান', 'এবং', 'অস্ট্রেলিয়ার', 'বিভিন্ন', 'উচ্চশিক্ষা', 'এবং', 'গবেষণা', 'প্রতিষ্ঠানের', 'সাথে', 'সংগতিপূর্ণ', 'সহযোগিতার', 'কার্যক্রম', 'সম্প্রসারিত', 'করা', 'হয়েছে'], ['কুয়েট', 'বাংলাদেশের', 'সবচেয়ে', 'অগ্রণী', 'বিশ্ববিদ্যালয়গুলোর', 'মধ্যে', 'অন্যতম', 'একটি', 'হিসেবে', 'মর্যাদা', 'লাভ', 'করায়', 'এর', 'উপাচার্য', 'হিসেবে', 'আমি', 'সম্মানিত', 'এবং', 'দ্রুত', 'সময়ের', 'মধ্যে', 'ক্যাম্পাসের', 'মানসম্মত', 'শিক্ষা', 'গবেষণা', 'এবং', 'সামগ্রিক', 'উন্নয়ন', 'এবং', 'জ্ঞানার্জনের', 'পরিবেশের', 'অগ্রগতি', 'ও', 'প্রবৃদ্ধিকে', 'এগিয়ে', 'নিতে', 'আশাবাদী'], ['অনন্য', 'এক', 'শিক্ষা', 'গবেষণা', 'ও', 'আন্তরিক', 'পরিবেশের', 'অভিজ্ঞতা', 'লাভের', 'জন্য', 'আমি', 'সকলকে', 'কুয়েটে', 'স্বাগত', 'জানাই']]\n"
     ]
    }
   ],
   "source": [
    "bnltk = NLTKTokenizer()\n",
    "word_tokens = bnltk.word_tokenize(text)\n",
    "sentence_tokens = bnltk.sentence_tokenize(text)\n",
    "tokenized_sentences = []\n",
    "for sentence in sentence_tokens:\n",
    "    words = bnltk.word_tokenize(sentence)\n",
    "    tokenized_sentences.append([word for word in words if word not in punctuations ])\n",
    "print(tokenized_sentences)"
   ]
  },
  {
   "cell_type": "markdown",
   "id": "complicated-collection",
   "metadata": {},
   "source": [
    "### Creating Word2Vec for words "
   ]
  },
  {
   "cell_type": "code",
   "execution_count": 6,
   "id": "compact-extent",
   "metadata": {},
   "outputs": [],
   "source": [
    "bwv = BengaliWord2Vec()\n",
    "model_path = \"./word2vec/bengali_word2vec.model\""
   ]
  },
  {
   "cell_type": "code",
   "execution_count": 7,
   "id": "alternate-location",
   "metadata": {},
   "outputs": [],
   "source": [
    "word_vectors = []\n"
   ]
  },
  {
   "cell_type": "code",
   "execution_count": 11,
   "id": "competent-manitoba",
   "metadata": {},
   "outputs": [
    {
     "name": "stderr",
     "output_type": "stream",
     "text": [
      "C:\\Users\\EON\\anaconda3\\envs\\torch\\lib\\site-packages\\sklearn\\utils\\deprecation.py:143: FutureWarning: The sklearn.feature_extraction.dict_vectorizer module is  deprecated in version 0.22 and will be removed in version 0.24. The corresponding classes / functions should instead be imported from sklearn.feature_extraction. Anything that cannot be imported from sklearn.feature_extraction is now part of the private API.\n",
      "  warnings.warn(message, FutureWarning)\n",
      "C:\\Users\\EON\\anaconda3\\envs\\torch\\lib\\site-packages\\sklearn\\base.py:329: UserWarning: Trying to unpickle estimator DictVectorizer from version 0.21.3 when using version 0.23.2. This might lead to breaking code or invalid results. Use at your own risk.\n",
      "  warnings.warn(\n",
      "C:\\Users\\EON\\anaconda3\\envs\\torch\\lib\\site-packages\\sklearn\\utils\\deprecation.py:143: FutureWarning: The sklearn.linear_model.logistic module is  deprecated in version 0.22 and will be removed in version 0.24. The corresponding classes / functions should instead be imported from sklearn.linear_model. Anything that cannot be imported from sklearn.linear_model is now part of the private API.\n",
      "  warnings.warn(message, FutureWarning)\n",
      "C:\\Users\\EON\\anaconda3\\envs\\torch\\lib\\site-packages\\sklearn\\base.py:329: UserWarning: Trying to unpickle estimator LogisticRegression from version 0.21.3 when using version 0.23.2. This might lead to breaking code or invalid results. Use at your own risk.\n",
      "  warnings.warn(\n",
      "C:\\Users\\EON\\anaconda3\\envs\\torch\\lib\\site-packages\\sklearn\\base.py:329: UserWarning: Trying to unpickle estimator Pipeline from version 0.21.3 when using version 0.23.2. This might lead to breaking code or invalid results. Use at your own risk.\n",
      "  warnings.warn(\n"
     ]
    }
   ],
   "source": [
    "stemmer = UgraStemmer()"
   ]
  },
  {
   "cell_type": "code",
   "execution_count": 12,
   "id": "hydraulic-oracle",
   "metadata": {},
   "outputs": [
    {
     "ename": "KeyError",
     "evalue": "\"Key 'বিশ্ববিদ্যালয়' not present\"",
     "output_type": "error",
     "traceback": [
      "\u001b[1;31m---------------------------------------------------------------------------\u001b[0m",
      "\u001b[1;31mKeyError\u001b[0m                                  Traceback (most recent call last)",
      "\u001b[1;32m<ipython-input-12-3fb8cbce7ab5>\u001b[0m in \u001b[0;36m<module>\u001b[1;34m\u001b[0m\n\u001b[0;32m      1\u001b[0m \u001b[1;32mfor\u001b[0m \u001b[0msentence\u001b[0m \u001b[1;32min\u001b[0m \u001b[0mtokenized_sentences\u001b[0m\u001b[1;33m:\u001b[0m\u001b[1;33m\u001b[0m\u001b[1;33m\u001b[0m\u001b[0m\n\u001b[0;32m      2\u001b[0m     \u001b[0msentence\u001b[0m \u001b[1;33m=\u001b[0m \u001b[0mstemmer\u001b[0m\u001b[1;33m.\u001b[0m\u001b[0mstem\u001b[0m\u001b[1;33m(\u001b[0m\u001b[0msentence\u001b[0m\u001b[1;33m)\u001b[0m\u001b[1;33m\u001b[0m\u001b[1;33m\u001b[0m\u001b[0m\n\u001b[1;32m----> 3\u001b[1;33m     \u001b[0mvwords\u001b[0m \u001b[1;33m=\u001b[0m\u001b[1;33m[\u001b[0m\u001b[0mbwv\u001b[0m\u001b[1;33m.\u001b[0m\u001b[0mgenerate_word_vector\u001b[0m\u001b[1;33m(\u001b[0m\u001b[0mmodel_path\u001b[0m\u001b[1;33m,\u001b[0m \u001b[0mword\u001b[0m\u001b[1;33m)\u001b[0m \u001b[1;32mfor\u001b[0m \u001b[0mword\u001b[0m \u001b[1;32min\u001b[0m \u001b[0msentence\u001b[0m\u001b[1;33m]\u001b[0m\u001b[1;33m\u001b[0m\u001b[1;33m\u001b[0m\u001b[0m\n\u001b[0m\u001b[0;32m      4\u001b[0m     \u001b[0mword_vectors\u001b[0m\u001b[1;33m.\u001b[0m\u001b[0mappend\u001b[0m\u001b[1;33m(\u001b[0m\u001b[0mvwords\u001b[0m\u001b[1;33m)\u001b[0m\u001b[1;33m\u001b[0m\u001b[1;33m\u001b[0m\u001b[0m\n",
      "\u001b[1;32m<ipython-input-12-3fb8cbce7ab5>\u001b[0m in \u001b[0;36m<listcomp>\u001b[1;34m(.0)\u001b[0m\n\u001b[0;32m      1\u001b[0m \u001b[1;32mfor\u001b[0m \u001b[0msentence\u001b[0m \u001b[1;32min\u001b[0m \u001b[0mtokenized_sentences\u001b[0m\u001b[1;33m:\u001b[0m\u001b[1;33m\u001b[0m\u001b[1;33m\u001b[0m\u001b[0m\n\u001b[0;32m      2\u001b[0m     \u001b[0msentence\u001b[0m \u001b[1;33m=\u001b[0m \u001b[0mstemmer\u001b[0m\u001b[1;33m.\u001b[0m\u001b[0mstem\u001b[0m\u001b[1;33m(\u001b[0m\u001b[0msentence\u001b[0m\u001b[1;33m)\u001b[0m\u001b[1;33m\u001b[0m\u001b[1;33m\u001b[0m\u001b[0m\n\u001b[1;32m----> 3\u001b[1;33m     \u001b[0mvwords\u001b[0m \u001b[1;33m=\u001b[0m\u001b[1;33m[\u001b[0m\u001b[0mbwv\u001b[0m\u001b[1;33m.\u001b[0m\u001b[0mgenerate_word_vector\u001b[0m\u001b[1;33m(\u001b[0m\u001b[0mmodel_path\u001b[0m\u001b[1;33m,\u001b[0m \u001b[0mword\u001b[0m\u001b[1;33m)\u001b[0m \u001b[1;32mfor\u001b[0m \u001b[0mword\u001b[0m \u001b[1;32min\u001b[0m \u001b[0msentence\u001b[0m\u001b[1;33m]\u001b[0m\u001b[1;33m\u001b[0m\u001b[1;33m\u001b[0m\u001b[0m\n\u001b[0m\u001b[0;32m      4\u001b[0m     \u001b[0mword_vectors\u001b[0m\u001b[1;33m.\u001b[0m\u001b[0mappend\u001b[0m\u001b[1;33m(\u001b[0m\u001b[0mvwords\u001b[0m\u001b[1;33m)\u001b[0m\u001b[1;33m\u001b[0m\u001b[1;33m\u001b[0m\u001b[0m\n",
      "\u001b[1;32m~\\anaconda3\\envs\\torch\\lib\\site-packages\\bnlp\\embedding\\word2vec.py\u001b[0m in \u001b[0;36mgenerate_word_vector\u001b[1;34m(self, model_path, input_word)\u001b[0m\n\u001b[0;32m    134\u001b[0m         \"\"\"\n\u001b[0;32m    135\u001b[0m         \u001b[0mmodel\u001b[0m \u001b[1;33m=\u001b[0m \u001b[0mWord2Vec\u001b[0m\u001b[1;33m.\u001b[0m\u001b[0mload\u001b[0m\u001b[1;33m(\u001b[0m\u001b[0mmodel_path\u001b[0m\u001b[1;33m)\u001b[0m\u001b[1;33m\u001b[0m\u001b[1;33m\u001b[0m\u001b[0m\n\u001b[1;32m--> 136\u001b[1;33m         \u001b[0mvector\u001b[0m \u001b[1;33m=\u001b[0m \u001b[0mmodel\u001b[0m\u001b[1;33m.\u001b[0m\u001b[0mwv\u001b[0m\u001b[1;33m[\u001b[0m\u001b[0minput_word\u001b[0m\u001b[1;33m]\u001b[0m\u001b[1;33m\u001b[0m\u001b[1;33m\u001b[0m\u001b[0m\n\u001b[0m\u001b[0;32m    137\u001b[0m         \u001b[1;32mreturn\u001b[0m \u001b[0mvector\u001b[0m\u001b[1;33m\u001b[0m\u001b[1;33m\u001b[0m\u001b[0m\n\u001b[0;32m    138\u001b[0m \u001b[1;33m\u001b[0m\u001b[0m\n",
      "\u001b[1;32m~\\anaconda3\\envs\\torch\\lib\\site-packages\\gensim\\models\\keyedvectors.py\u001b[0m in \u001b[0;36m__getitem__\u001b[1;34m(self, key_or_keys)\u001b[0m\n\u001b[0;32m    377\u001b[0m         \"\"\"\n\u001b[0;32m    378\u001b[0m         \u001b[1;32mif\u001b[0m \u001b[0misinstance\u001b[0m\u001b[1;33m(\u001b[0m\u001b[0mkey_or_keys\u001b[0m\u001b[1;33m,\u001b[0m \u001b[0mKEY_TYPES\u001b[0m\u001b[1;33m)\u001b[0m\u001b[1;33m:\u001b[0m\u001b[1;33m\u001b[0m\u001b[1;33m\u001b[0m\u001b[0m\n\u001b[1;32m--> 379\u001b[1;33m             \u001b[1;32mreturn\u001b[0m \u001b[0mself\u001b[0m\u001b[1;33m.\u001b[0m\u001b[0mget_vector\u001b[0m\u001b[1;33m(\u001b[0m\u001b[0mkey_or_keys\u001b[0m\u001b[1;33m)\u001b[0m\u001b[1;33m\u001b[0m\u001b[1;33m\u001b[0m\u001b[0m\n\u001b[0m\u001b[0;32m    380\u001b[0m \u001b[1;33m\u001b[0m\u001b[0m\n\u001b[0;32m    381\u001b[0m         \u001b[1;32mreturn\u001b[0m \u001b[0mvstack\u001b[0m\u001b[1;33m(\u001b[0m\u001b[1;33m[\u001b[0m\u001b[0mself\u001b[0m\u001b[1;33m.\u001b[0m\u001b[0mget_vector\u001b[0m\u001b[1;33m(\u001b[0m\u001b[0mkey\u001b[0m\u001b[1;33m)\u001b[0m \u001b[1;32mfor\u001b[0m \u001b[0mkey\u001b[0m \u001b[1;32min\u001b[0m \u001b[0mkey_or_keys\u001b[0m\u001b[1;33m]\u001b[0m\u001b[1;33m)\u001b[0m\u001b[1;33m\u001b[0m\u001b[1;33m\u001b[0m\u001b[0m\n",
      "\u001b[1;32m~\\anaconda3\\envs\\torch\\lib\\site-packages\\gensim\\models\\keyedvectors.py\u001b[0m in \u001b[0;36mget_vector\u001b[1;34m(self, key, norm)\u001b[0m\n\u001b[0;32m    420\u001b[0m \u001b[1;33m\u001b[0m\u001b[0m\n\u001b[0;32m    421\u001b[0m         \"\"\"\n\u001b[1;32m--> 422\u001b[1;33m         \u001b[0mindex\u001b[0m \u001b[1;33m=\u001b[0m \u001b[0mself\u001b[0m\u001b[1;33m.\u001b[0m\u001b[0mget_index\u001b[0m\u001b[1;33m(\u001b[0m\u001b[0mkey\u001b[0m\u001b[1;33m)\u001b[0m\u001b[1;33m\u001b[0m\u001b[1;33m\u001b[0m\u001b[0m\n\u001b[0m\u001b[0;32m    423\u001b[0m         \u001b[1;32mif\u001b[0m \u001b[0mnorm\u001b[0m\u001b[1;33m:\u001b[0m\u001b[1;33m\u001b[0m\u001b[1;33m\u001b[0m\u001b[0m\n\u001b[0;32m    424\u001b[0m             \u001b[0mself\u001b[0m\u001b[1;33m.\u001b[0m\u001b[0mfill_norms\u001b[0m\u001b[1;33m(\u001b[0m\u001b[1;33m)\u001b[0m\u001b[1;33m\u001b[0m\u001b[1;33m\u001b[0m\u001b[0m\n",
      "\u001b[1;32m~\\anaconda3\\envs\\torch\\lib\\site-packages\\gensim\\models\\keyedvectors.py\u001b[0m in \u001b[0;36mget_index\u001b[1;34m(self, key, default)\u001b[0m\n\u001b[0;32m    394\u001b[0m             \u001b[1;32mreturn\u001b[0m \u001b[0mdefault\u001b[0m\u001b[1;33m\u001b[0m\u001b[1;33m\u001b[0m\u001b[0m\n\u001b[0;32m    395\u001b[0m         \u001b[1;32melse\u001b[0m\u001b[1;33m:\u001b[0m\u001b[1;33m\u001b[0m\u001b[1;33m\u001b[0m\u001b[0m\n\u001b[1;32m--> 396\u001b[1;33m             \u001b[1;32mraise\u001b[0m \u001b[0mKeyError\u001b[0m\u001b[1;33m(\u001b[0m\u001b[1;34mf\"Key '{key}' not present\"\u001b[0m\u001b[1;33m)\u001b[0m\u001b[1;33m\u001b[0m\u001b[1;33m\u001b[0m\u001b[0m\n\u001b[0m\u001b[0;32m    397\u001b[0m \u001b[1;33m\u001b[0m\u001b[0m\n\u001b[0;32m    398\u001b[0m     \u001b[1;32mdef\u001b[0m \u001b[0mget_vector\u001b[0m\u001b[1;33m(\u001b[0m\u001b[0mself\u001b[0m\u001b[1;33m,\u001b[0m \u001b[0mkey\u001b[0m\u001b[1;33m,\u001b[0m \u001b[0mnorm\u001b[0m\u001b[1;33m=\u001b[0m\u001b[1;32mFalse\u001b[0m\u001b[1;33m)\u001b[0m\u001b[1;33m:\u001b[0m\u001b[1;33m\u001b[0m\u001b[1;33m\u001b[0m\u001b[0m\n",
      "\u001b[1;31mKeyError\u001b[0m: \"Key 'বিশ্ববিদ্যালয়' not present\""
     ]
    }
   ],
   "source": [
    "for sentence in tokenized_sentences:\n",
    "    sentence = stemmer.stem(sentence)\n",
    "    vwords =[bwv.generate_word_vector(model_path, word) for word in sentence]\n",
    "    word_vectors.append(vwords)"
   ]
  },
  {
   "cell_type": "code",
   "execution_count": null,
   "id": "asian-class",
   "metadata": {},
   "outputs": [],
   "source": []
  }
 ],
 "metadata": {
  "kernelspec": {
   "display_name": "Python (torch)",
   "language": "python",
   "name": "torch"
  },
  "language_info": {
   "codemirror_mode": {
    "name": "ipython",
    "version": 3
   },
   "file_extension": ".py",
   "mimetype": "text/x-python",
   "name": "python",
   "nbconvert_exporter": "python",
   "pygments_lexer": "ipython3",
   "version": "3.8.5"
  }
 },
 "nbformat": 4,
 "nbformat_minor": 5
}
